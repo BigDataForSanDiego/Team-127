{
  "cells": [
    {
      "cell_type": "markdown",
      "metadata": {
        "id": "5Us3-EVRhw6n"
      },
      "source": [
        "# Big Data Hackathon\\ San Diego [link](https://bigdataforsandiego.github.io/)\n",
        "\n",
        "- Team Raccoon\n",
        "- Members\n",
        "  - Yosen\n",
        "  - Pratt\n",
        "  - Richard\n",
        "\n",
        "## Themes\n",
        "### Five Core Questions\n",
        "1. Access to care: How can we make it easier to access care (especially specialists) and provide clear, timely notifications, and reminders along their healthcare journey?\n",
        "2. Patient satisfaction: How can we make it more convenient for patients to provide real-time feedback about their healthcare experience through a mobile app?\n",
        "3. New patient experience: As a potential new customer, how can we leverage the mobile app to help new patients better understand what services are available to them?\n",
        "4. Managing my health: It's easy to get overwhelmed by all the tasks patients often have to do to maintain their health, how can we make managing health more enjoyable?\n",
        "5. Addressing mental health challenges: Mental health challenges may be difficult to identify and have a broad impact on health, how can we help clinicians be more in tune with patients mental health needs?\n",
        "\n",
        "### Optional Questions (Can combine w/ core questions)\n",
        "1. Cultural Competence in Healthcare: How can we design a mobile app that helps healthcare providers better understand and respect cultural differences, improving communication and care for diverse patient populations?\n",
        "2. Access to Care for Rrural and Remote Communities: How can we leverage technology to improve healthcare access for rural and remote communities, ensuring timely and specialized care for those in underserved areas? (Focus on SDSU Imperial Valley Connection - Rural/Remote)\n",
        "3. (For Geocomputational Thinker Awards) Enhancing Disease Prevention: How can big (geospatial) data analytics and AI be used to improve access to information about the influence of human behavior, cultural practices, and social interactions on the spread of diseases?\n",
        "4. (For Geocomputational Thinker Awards) Addressing Environment Health Disparities: How can we leverage big (geospatial) data analytics and AI to improve access to resources that mitigate the impact of environmental factors, i.e. pollution, on health disparities?\n",
        "\n",
        "## The Challenge\n",
        "- Your challenge is to create an app, platform, and/or technology that can tie into the Healthcare theme using datasets provided.\n",
        "\n",
        "\n",
        "# Questions & Brainstorming\n",
        "## 1. Access to care: How can we make it easier to access care (especially specialists) and provide clear, timely notifications, and reminders along their healthcare journey?\n",
        "- Does this require in-person care or does virtual suffice?\n",
        "- Idea: using hospital locations, find the nearest hospital to a patient's location\n",
        "- Data Sets:\n",
        "  - [San Diego Planning Database](http://planning.sandiegodata.org/)\n",
        "\n",
        "## 2. Patient satisfaction: How can we make it more convenient for patients to provide real-time feedback about their healthcare experience through a mobile app?\n",
        "- If a patient is within the healthcare campus they could be notified about a quick survey that just utilized (thumbs up) and (thumbs down) to quickly give some insight into their satisfaction throughout the process. This could be tied into the check-in, initial screening process, etc.. to correlate timing back to which process the survey refers to as well as give the opportunity for patients to provide more feedback if they would like to.\n",
        "\n",
        "## 3. New patient experience: As a potential new customer, how can we leverage the mobile app to help new patients better understand what services are available to them?\n",
        "- A chat like system utilizing an LLM could interpret what they are saying and try to provide them with the specialist that could better help them for that particular issue at hand. This would require a database of the different procedures or ailments that each specialist performs. This may also utilize a translation service to translate the patients language to English before then utilizing an LLM for interpretation and subsequent SQL search.\n",
        "\n",
        "## 4. Managing my health: It's easy to get overwhelmed by all the tasks patients often have to do to maintain their health, how can we make managing health more enjoyable?\n",
        "- Gamifying the process of staying healthy could be an effective method!\n",
        "- In some way giving people rewards/awards for providing BP readings, watch or ring heart statistics for analysis..\n",
        "- Have users provide their eating habits, sleep habits, caffeine habits, exercise habits, etc..\n",
        "- Rewards like this are already provided by insurance companies by giving people $300 or so dollars for getting their yearly checkups and making sure everyting is 'normal', but this could be done more effectively throughout the year utilizing a system like this.\n",
        "\n",
        "## 5. Addressing mental health challenges: Mental health challenges may be difficult to identify and have a broad impact on health, how can we help clinicians be more in tune with patients mental health needs?\n",
        "- Could look for other data that can be provided via Watches/Rings that can provide heart data that could then be correlated to peoples mental states. (Long time to implement..)\n",
        "- Ask the patients randomly throughout the day/week/month how they are feeling and get a report which then given a certain threshold alerts the doctor to follow up."
      ]
    },
    {
      "cell_type": "markdown",
      "metadata": {},
      "source": []
    }
  ],
  "metadata": {
    "colab": {
      "provenance": []
    },
    "kernelspec": {
      "display_name": "Python 3",
      "name": "python3"
    },
    "language_info": {
      "name": "python"
    }
  },
  "nbformat": 4,
  "nbformat_minor": 0
}
